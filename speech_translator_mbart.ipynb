{
  "nbformat": 4,
  "nbformat_minor": 0,
  "metadata": {
    "colab": {
      "provenance": [],
      "gpuType": "T4",
      "authorship_tag": "ABX9TyOZIbvc4OL6nFcqPqF1OrCr",
      "include_colab_link": true
    },
    "kernelspec": {
      "name": "python3",
      "display_name": "Python 3"
    },
    "language_info": {
      "name": "python"
    },
    "accelerator": "GPU",
    "widgets": {
      "application/vnd.jupyter.widget-state+json": {
        "a651e9c5dda64e2592961e76d23dda61": {
          "model_module": "@jupyter-widgets/controls",
          "model_name": "HBoxModel",
          "model_module_version": "1.5.0",
          "state": {
            "_dom_classes": [],
            "_model_module": "@jupyter-widgets/controls",
            "_model_module_version": "1.5.0",
            "_model_name": "HBoxModel",
            "_view_count": null,
            "_view_module": "@jupyter-widgets/controls",
            "_view_module_version": "1.5.0",
            "_view_name": "HBoxView",
            "box_style": "",
            "children": [
              "IPY_MODEL_9665ef9ecd24484abd247dc478d7b606",
              "IPY_MODEL_130f07251d2e4a7bb57d4e83f872c74c",
              "IPY_MODEL_a9f351643bf5444aa99ee3ec3f1a4e79"
            ],
            "layout": "IPY_MODEL_727124db7aaf4d9b87c15e5dcfa3d586"
          }
        },
        "9665ef9ecd24484abd247dc478d7b606": {
          "model_module": "@jupyter-widgets/controls",
          "model_name": "HTMLModel",
          "model_module_version": "1.5.0",
          "state": {
            "_dom_classes": [],
            "_model_module": "@jupyter-widgets/controls",
            "_model_module_version": "1.5.0",
            "_model_name": "HTMLModel",
            "_view_count": null,
            "_view_module": "@jupyter-widgets/controls",
            "_view_module_version": "1.5.0",
            "_view_name": "HTMLView",
            "description": "",
            "description_tooltip": null,
            "layout": "IPY_MODEL_f0533a090c23487aac56997f27edc469",
            "placeholder": "​",
            "style": "IPY_MODEL_80a014555d35490b9dd2bec17801950e",
            "value": "config.json: 100%"
          }
        },
        "130f07251d2e4a7bb57d4e83f872c74c": {
          "model_module": "@jupyter-widgets/controls",
          "model_name": "FloatProgressModel",
          "model_module_version": "1.5.0",
          "state": {
            "_dom_classes": [],
            "_model_module": "@jupyter-widgets/controls",
            "_model_module_version": "1.5.0",
            "_model_name": "FloatProgressModel",
            "_view_count": null,
            "_view_module": "@jupyter-widgets/controls",
            "_view_module_version": "1.5.0",
            "_view_name": "ProgressView",
            "bar_style": "success",
            "description": "",
            "description_tooltip": null,
            "layout": "IPY_MODEL_fae5d2196d454f11b2e01fe6730d0f81",
            "max": 1428,
            "min": 0,
            "orientation": "horizontal",
            "style": "IPY_MODEL_695573d9d6b24f4f8fb915726cf76118",
            "value": 1428
          }
        },
        "a9f351643bf5444aa99ee3ec3f1a4e79": {
          "model_module": "@jupyter-widgets/controls",
          "model_name": "HTMLModel",
          "model_module_version": "1.5.0",
          "state": {
            "_dom_classes": [],
            "_model_module": "@jupyter-widgets/controls",
            "_model_module_version": "1.5.0",
            "_model_name": "HTMLModel",
            "_view_count": null,
            "_view_module": "@jupyter-widgets/controls",
            "_view_module_version": "1.5.0",
            "_view_name": "HTMLView",
            "description": "",
            "description_tooltip": null,
            "layout": "IPY_MODEL_a9e3576e6b9a40319a9c4a85d50f7a61",
            "placeholder": "​",
            "style": "IPY_MODEL_c0141088b2c64aeca802ed3b9b030ff3",
            "value": " 1.43k/1.43k [00:00&lt;00:00, 21.9kB/s]"
          }
        },
        "727124db7aaf4d9b87c15e5dcfa3d586": {
          "model_module": "@jupyter-widgets/base",
          "model_name": "LayoutModel",
          "model_module_version": "1.2.0",
          "state": {
            "_model_module": "@jupyter-widgets/base",
            "_model_module_version": "1.2.0",
            "_model_name": "LayoutModel",
            "_view_count": null,
            "_view_module": "@jupyter-widgets/base",
            "_view_module_version": "1.2.0",
            "_view_name": "LayoutView",
            "align_content": null,
            "align_items": null,
            "align_self": null,
            "border": null,
            "bottom": null,
            "display": null,
            "flex": null,
            "flex_flow": null,
            "grid_area": null,
            "grid_auto_columns": null,
            "grid_auto_flow": null,
            "grid_auto_rows": null,
            "grid_column": null,
            "grid_gap": null,
            "grid_row": null,
            "grid_template_areas": null,
            "grid_template_columns": null,
            "grid_template_rows": null,
            "height": null,
            "justify_content": null,
            "justify_items": null,
            "left": null,
            "margin": null,
            "max_height": null,
            "max_width": null,
            "min_height": null,
            "min_width": null,
            "object_fit": null,
            "object_position": null,
            "order": null,
            "overflow": null,
            "overflow_x": null,
            "overflow_y": null,
            "padding": null,
            "right": null,
            "top": null,
            "visibility": null,
            "width": null
          }
        },
        "f0533a090c23487aac56997f27edc469": {
          "model_module": "@jupyter-widgets/base",
          "model_name": "LayoutModel",
          "model_module_version": "1.2.0",
          "state": {
            "_model_module": "@jupyter-widgets/base",
            "_model_module_version": "1.2.0",
            "_model_name": "LayoutModel",
            "_view_count": null,
            "_view_module": "@jupyter-widgets/base",
            "_view_module_version": "1.2.0",
            "_view_name": "LayoutView",
            "align_content": null,
            "align_items": null,
            "align_self": null,
            "border": null,
            "bottom": null,
            "display": null,
            "flex": null,
            "flex_flow": null,
            "grid_area": null,
            "grid_auto_columns": null,
            "grid_auto_flow": null,
            "grid_auto_rows": null,
            "grid_column": null,
            "grid_gap": null,
            "grid_row": null,
            "grid_template_areas": null,
            "grid_template_columns": null,
            "grid_template_rows": null,
            "height": null,
            "justify_content": null,
            "justify_items": null,
            "left": null,
            "margin": null,
            "max_height": null,
            "max_width": null,
            "min_height": null,
            "min_width": null,
            "object_fit": null,
            "object_position": null,
            "order": null,
            "overflow": null,
            "overflow_x": null,
            "overflow_y": null,
            "padding": null,
            "right": null,
            "top": null,
            "visibility": null,
            "width": null
          }
        },
        "80a014555d35490b9dd2bec17801950e": {
          "model_module": "@jupyter-widgets/controls",
          "model_name": "DescriptionStyleModel",
          "model_module_version": "1.5.0",
          "state": {
            "_model_module": "@jupyter-widgets/controls",
            "_model_module_version": "1.5.0",
            "_model_name": "DescriptionStyleModel",
            "_view_count": null,
            "_view_module": "@jupyter-widgets/base",
            "_view_module_version": "1.2.0",
            "_view_name": "StyleView",
            "description_width": ""
          }
        },
        "fae5d2196d454f11b2e01fe6730d0f81": {
          "model_module": "@jupyter-widgets/base",
          "model_name": "LayoutModel",
          "model_module_version": "1.2.0",
          "state": {
            "_model_module": "@jupyter-widgets/base",
            "_model_module_version": "1.2.0",
            "_model_name": "LayoutModel",
            "_view_count": null,
            "_view_module": "@jupyter-widgets/base",
            "_view_module_version": "1.2.0",
            "_view_name": "LayoutView",
            "align_content": null,
            "align_items": null,
            "align_self": null,
            "border": null,
            "bottom": null,
            "display": null,
            "flex": null,
            "flex_flow": null,
            "grid_area": null,
            "grid_auto_columns": null,
            "grid_auto_flow": null,
            "grid_auto_rows": null,
            "grid_column": null,
            "grid_gap": null,
            "grid_row": null,
            "grid_template_areas": null,
            "grid_template_columns": null,
            "grid_template_rows": null,
            "height": null,
            "justify_content": null,
            "justify_items": null,
            "left": null,
            "margin": null,
            "max_height": null,
            "max_width": null,
            "min_height": null,
            "min_width": null,
            "object_fit": null,
            "object_position": null,
            "order": null,
            "overflow": null,
            "overflow_x": null,
            "overflow_y": null,
            "padding": null,
            "right": null,
            "top": null,
            "visibility": null,
            "width": null
          }
        },
        "695573d9d6b24f4f8fb915726cf76118": {
          "model_module": "@jupyter-widgets/controls",
          "model_name": "ProgressStyleModel",
          "model_module_version": "1.5.0",
          "state": {
            "_model_module": "@jupyter-widgets/controls",
            "_model_module_version": "1.5.0",
            "_model_name": "ProgressStyleModel",
            "_view_count": null,
            "_view_module": "@jupyter-widgets/base",
            "_view_module_version": "1.2.0",
            "_view_name": "StyleView",
            "bar_color": null,
            "description_width": ""
          }
        },
        "a9e3576e6b9a40319a9c4a85d50f7a61": {
          "model_module": "@jupyter-widgets/base",
          "model_name": "LayoutModel",
          "model_module_version": "1.2.0",
          "state": {
            "_model_module": "@jupyter-widgets/base",
            "_model_module_version": "1.2.0",
            "_model_name": "LayoutModel",
            "_view_count": null,
            "_view_module": "@jupyter-widgets/base",
            "_view_module_version": "1.2.0",
            "_view_name": "LayoutView",
            "align_content": null,
            "align_items": null,
            "align_self": null,
            "border": null,
            "bottom": null,
            "display": null,
            "flex": null,
            "flex_flow": null,
            "grid_area": null,
            "grid_auto_columns": null,
            "grid_auto_flow": null,
            "grid_auto_rows": null,
            "grid_column": null,
            "grid_gap": null,
            "grid_row": null,
            "grid_template_areas": null,
            "grid_template_columns": null,
            "grid_template_rows": null,
            "height": null,
            "justify_content": null,
            "justify_items": null,
            "left": null,
            "margin": null,
            "max_height": null,
            "max_width": null,
            "min_height": null,
            "min_width": null,
            "object_fit": null,
            "object_position": null,
            "order": null,
            "overflow": null,
            "overflow_x": null,
            "overflow_y": null,
            "padding": null,
            "right": null,
            "top": null,
            "visibility": null,
            "width": null
          }
        },
        "c0141088b2c64aeca802ed3b9b030ff3": {
          "model_module": "@jupyter-widgets/controls",
          "model_name": "DescriptionStyleModel",
          "model_module_version": "1.5.0",
          "state": {
            "_model_module": "@jupyter-widgets/controls",
            "_model_module_version": "1.5.0",
            "_model_name": "DescriptionStyleModel",
            "_view_count": null,
            "_view_module": "@jupyter-widgets/base",
            "_view_module_version": "1.2.0",
            "_view_name": "StyleView",
            "description_width": ""
          }
        },
        "8cf3d4993c1a4b29a9eee2cdd1b226e0": {
          "model_module": "@jupyter-widgets/controls",
          "model_name": "HBoxModel",
          "model_module_version": "1.5.0",
          "state": {
            "_dom_classes": [],
            "_model_module": "@jupyter-widgets/controls",
            "_model_module_version": "1.5.0",
            "_model_name": "HBoxModel",
            "_view_count": null,
            "_view_module": "@jupyter-widgets/controls",
            "_view_module_version": "1.5.0",
            "_view_name": "HBoxView",
            "box_style": "",
            "children": [
              "IPY_MODEL_69a0ea6c0ced49f5b7765acb67ede398",
              "IPY_MODEL_94d85819b0954bec9945bff4d1ecf5ce",
              "IPY_MODEL_f856273dac3040a89030b6d5e852d9ac"
            ],
            "layout": "IPY_MODEL_3069046a8df946b3bc30c4e81a9f53d9"
          }
        },
        "69a0ea6c0ced49f5b7765acb67ede398": {
          "model_module": "@jupyter-widgets/controls",
          "model_name": "HTMLModel",
          "model_module_version": "1.5.0",
          "state": {
            "_dom_classes": [],
            "_model_module": "@jupyter-widgets/controls",
            "_model_module_version": "1.5.0",
            "_model_name": "HTMLModel",
            "_view_count": null,
            "_view_module": "@jupyter-widgets/controls",
            "_view_module_version": "1.5.0",
            "_view_name": "HTMLView",
            "description": "",
            "description_tooltip": null,
            "layout": "IPY_MODEL_537d4fe9cefa4f78838d5deac34a221e",
            "placeholder": "​",
            "style": "IPY_MODEL_e9d4cc7c89814b28ba064da1f816f283",
            "value": "pytorch_model.bin: 100%"
          }
        },
        "94d85819b0954bec9945bff4d1ecf5ce": {
          "model_module": "@jupyter-widgets/controls",
          "model_name": "FloatProgressModel",
          "model_module_version": "1.5.0",
          "state": {
            "_dom_classes": [],
            "_model_module": "@jupyter-widgets/controls",
            "_model_module_version": "1.5.0",
            "_model_name": "FloatProgressModel",
            "_view_count": null,
            "_view_module": "@jupyter-widgets/controls",
            "_view_module_version": "1.5.0",
            "_view_name": "ProgressView",
            "bar_style": "success",
            "description": "",
            "description_tooltip": null,
            "layout": "IPY_MODEL_e025d23188e444ddba12726c146d7186",
            "max": 2444714899,
            "min": 0,
            "orientation": "horizontal",
            "style": "IPY_MODEL_3af673c04ed8473a96243509ed1b0cbc",
            "value": 2444714899
          }
        },
        "f856273dac3040a89030b6d5e852d9ac": {
          "model_module": "@jupyter-widgets/controls",
          "model_name": "HTMLModel",
          "model_module_version": "1.5.0",
          "state": {
            "_dom_classes": [],
            "_model_module": "@jupyter-widgets/controls",
            "_model_module_version": "1.5.0",
            "_model_name": "HTMLModel",
            "_view_count": null,
            "_view_module": "@jupyter-widgets/controls",
            "_view_module_version": "1.5.0",
            "_view_name": "HTMLView",
            "description": "",
            "description_tooltip": null,
            "layout": "IPY_MODEL_e482e9c5d67748a69712faf25d9d6b0d",
            "placeholder": "​",
            "style": "IPY_MODEL_4462e06d8da2457480490b243f196404",
            "value": " 2.44G/2.44G [00:31&lt;00:00, 169MB/s]"
          }
        },
        "3069046a8df946b3bc30c4e81a9f53d9": {
          "model_module": "@jupyter-widgets/base",
          "model_name": "LayoutModel",
          "model_module_version": "1.2.0",
          "state": {
            "_model_module": "@jupyter-widgets/base",
            "_model_module_version": "1.2.0",
            "_model_name": "LayoutModel",
            "_view_count": null,
            "_view_module": "@jupyter-widgets/base",
            "_view_module_version": "1.2.0",
            "_view_name": "LayoutView",
            "align_content": null,
            "align_items": null,
            "align_self": null,
            "border": null,
            "bottom": null,
            "display": null,
            "flex": null,
            "flex_flow": null,
            "grid_area": null,
            "grid_auto_columns": null,
            "grid_auto_flow": null,
            "grid_auto_rows": null,
            "grid_column": null,
            "grid_gap": null,
            "grid_row": null,
            "grid_template_areas": null,
            "grid_template_columns": null,
            "grid_template_rows": null,
            "height": null,
            "justify_content": null,
            "justify_items": null,
            "left": null,
            "margin": null,
            "max_height": null,
            "max_width": null,
            "min_height": null,
            "min_width": null,
            "object_fit": null,
            "object_position": null,
            "order": null,
            "overflow": null,
            "overflow_x": null,
            "overflow_y": null,
            "padding": null,
            "right": null,
            "top": null,
            "visibility": null,
            "width": null
          }
        },
        "537d4fe9cefa4f78838d5deac34a221e": {
          "model_module": "@jupyter-widgets/base",
          "model_name": "LayoutModel",
          "model_module_version": "1.2.0",
          "state": {
            "_model_module": "@jupyter-widgets/base",
            "_model_module_version": "1.2.0",
            "_model_name": "LayoutModel",
            "_view_count": null,
            "_view_module": "@jupyter-widgets/base",
            "_view_module_version": "1.2.0",
            "_view_name": "LayoutView",
            "align_content": null,
            "align_items": null,
            "align_self": null,
            "border": null,
            "bottom": null,
            "display": null,
            "flex": null,
            "flex_flow": null,
            "grid_area": null,
            "grid_auto_columns": null,
            "grid_auto_flow": null,
            "grid_auto_rows": null,
            "grid_column": null,
            "grid_gap": null,
            "grid_row": null,
            "grid_template_areas": null,
            "grid_template_columns": null,
            "grid_template_rows": null,
            "height": null,
            "justify_content": null,
            "justify_items": null,
            "left": null,
            "margin": null,
            "max_height": null,
            "max_width": null,
            "min_height": null,
            "min_width": null,
            "object_fit": null,
            "object_position": null,
            "order": null,
            "overflow": null,
            "overflow_x": null,
            "overflow_y": null,
            "padding": null,
            "right": null,
            "top": null,
            "visibility": null,
            "width": null
          }
        },
        "e9d4cc7c89814b28ba064da1f816f283": {
          "model_module": "@jupyter-widgets/controls",
          "model_name": "DescriptionStyleModel",
          "model_module_version": "1.5.0",
          "state": {
            "_model_module": "@jupyter-widgets/controls",
            "_model_module_version": "1.5.0",
            "_model_name": "DescriptionStyleModel",
            "_view_count": null,
            "_view_module": "@jupyter-widgets/base",
            "_view_module_version": "1.2.0",
            "_view_name": "StyleView",
            "description_width": ""
          }
        },
        "e025d23188e444ddba12726c146d7186": {
          "model_module": "@jupyter-widgets/base",
          "model_name": "LayoutModel",
          "model_module_version": "1.2.0",
          "state": {
            "_model_module": "@jupyter-widgets/base",
            "_model_module_version": "1.2.0",
            "_model_name": "LayoutModel",
            "_view_count": null,
            "_view_module": "@jupyter-widgets/base",
            "_view_module_version": "1.2.0",
            "_view_name": "LayoutView",
            "align_content": null,
            "align_items": null,
            "align_self": null,
            "border": null,
            "bottom": null,
            "display": null,
            "flex": null,
            "flex_flow": null,
            "grid_area": null,
            "grid_auto_columns": null,
            "grid_auto_flow": null,
            "grid_auto_rows": null,
            "grid_column": null,
            "grid_gap": null,
            "grid_row": null,
            "grid_template_areas": null,
            "grid_template_columns": null,
            "grid_template_rows": null,
            "height": null,
            "justify_content": null,
            "justify_items": null,
            "left": null,
            "margin": null,
            "max_height": null,
            "max_width": null,
            "min_height": null,
            "min_width": null,
            "object_fit": null,
            "object_position": null,
            "order": null,
            "overflow": null,
            "overflow_x": null,
            "overflow_y": null,
            "padding": null,
            "right": null,
            "top": null,
            "visibility": null,
            "width": null
          }
        },
        "3af673c04ed8473a96243509ed1b0cbc": {
          "model_module": "@jupyter-widgets/controls",
          "model_name": "ProgressStyleModel",
          "model_module_version": "1.5.0",
          "state": {
            "_model_module": "@jupyter-widgets/controls",
            "_model_module_version": "1.5.0",
            "_model_name": "ProgressStyleModel",
            "_view_count": null,
            "_view_module": "@jupyter-widgets/base",
            "_view_module_version": "1.2.0",
            "_view_name": "StyleView",
            "bar_color": null,
            "description_width": ""
          }
        },
        "e482e9c5d67748a69712faf25d9d6b0d": {
          "model_module": "@jupyter-widgets/base",
          "model_name": "LayoutModel",
          "model_module_version": "1.2.0",
          "state": {
            "_model_module": "@jupyter-widgets/base",
            "_model_module_version": "1.2.0",
            "_model_name": "LayoutModel",
            "_view_count": null,
            "_view_module": "@jupyter-widgets/base",
            "_view_module_version": "1.2.0",
            "_view_name": "LayoutView",
            "align_content": null,
            "align_items": null,
            "align_self": null,
            "border": null,
            "bottom": null,
            "display": null,
            "flex": null,
            "flex_flow": null,
            "grid_area": null,
            "grid_auto_columns": null,
            "grid_auto_flow": null,
            "grid_auto_rows": null,
            "grid_column": null,
            "grid_gap": null,
            "grid_row": null,
            "grid_template_areas": null,
            "grid_template_columns": null,
            "grid_template_rows": null,
            "height": null,
            "justify_content": null,
            "justify_items": null,
            "left": null,
            "margin": null,
            "max_height": null,
            "max_width": null,
            "min_height": null,
            "min_width": null,
            "object_fit": null,
            "object_position": null,
            "order": null,
            "overflow": null,
            "overflow_x": null,
            "overflow_y": null,
            "padding": null,
            "right": null,
            "top": null,
            "visibility": null,
            "width": null
          }
        },
        "4462e06d8da2457480490b243f196404": {
          "model_module": "@jupyter-widgets/controls",
          "model_name": "DescriptionStyleModel",
          "model_module_version": "1.5.0",
          "state": {
            "_model_module": "@jupyter-widgets/controls",
            "_model_module_version": "1.5.0",
            "_model_name": "DescriptionStyleModel",
            "_view_count": null,
            "_view_module": "@jupyter-widgets/base",
            "_view_module_version": "1.2.0",
            "_view_name": "StyleView",
            "description_width": ""
          }
        },
        "eacf88806bfa44a49a4a22072c40bc87": {
          "model_module": "@jupyter-widgets/controls",
          "model_name": "HBoxModel",
          "model_module_version": "1.5.0",
          "state": {
            "_dom_classes": [],
            "_model_module": "@jupyter-widgets/controls",
            "_model_module_version": "1.5.0",
            "_model_name": "HBoxModel",
            "_view_count": null,
            "_view_module": "@jupyter-widgets/controls",
            "_view_module_version": "1.5.0",
            "_view_name": "HBoxView",
            "box_style": "",
            "children": [
              "IPY_MODEL_1f107078552e43f8bc290cf8394434ca",
              "IPY_MODEL_649599a4d0f94fb2b16028a19c744d93",
              "IPY_MODEL_3c95358308484c17ae40232a2910bc66"
            ],
            "layout": "IPY_MODEL_55e677a0a57b4a77a16abc78c5defd5d"
          }
        },
        "1f107078552e43f8bc290cf8394434ca": {
          "model_module": "@jupyter-widgets/controls",
          "model_name": "HTMLModel",
          "model_module_version": "1.5.0",
          "state": {
            "_dom_classes": [],
            "_model_module": "@jupyter-widgets/controls",
            "_model_module_version": "1.5.0",
            "_model_name": "HTMLModel",
            "_view_count": null,
            "_view_module": "@jupyter-widgets/controls",
            "_view_module_version": "1.5.0",
            "_view_name": "HTMLView",
            "description": "",
            "description_tooltip": null,
            "layout": "IPY_MODEL_a29ac6c03a054a68806f84e6c5280431",
            "placeholder": "​",
            "style": "IPY_MODEL_9cfbe21a266345dda94b73a845ee4c9c",
            "value": "generation_config.json: 100%"
          }
        },
        "649599a4d0f94fb2b16028a19c744d93": {
          "model_module": "@jupyter-widgets/controls",
          "model_name": "FloatProgressModel",
          "model_module_version": "1.5.0",
          "state": {
            "_dom_classes": [],
            "_model_module": "@jupyter-widgets/controls",
            "_model_module_version": "1.5.0",
            "_model_name": "FloatProgressModel",
            "_view_count": null,
            "_view_module": "@jupyter-widgets/controls",
            "_view_module_version": "1.5.0",
            "_view_name": "ProgressView",
            "bar_style": "success",
            "description": "",
            "description_tooltip": null,
            "layout": "IPY_MODEL_b86fc63c1b5b4c708b08f87db59d268a",
            "max": 261,
            "min": 0,
            "orientation": "horizontal",
            "style": "IPY_MODEL_5c3029e5151a47b5892d210a4dd88be2",
            "value": 261
          }
        },
        "3c95358308484c17ae40232a2910bc66": {
          "model_module": "@jupyter-widgets/controls",
          "model_name": "HTMLModel",
          "model_module_version": "1.5.0",
          "state": {
            "_dom_classes": [],
            "_model_module": "@jupyter-widgets/controls",
            "_model_module_version": "1.5.0",
            "_model_name": "HTMLModel",
            "_view_count": null,
            "_view_module": "@jupyter-widgets/controls",
            "_view_module_version": "1.5.0",
            "_view_name": "HTMLView",
            "description": "",
            "description_tooltip": null,
            "layout": "IPY_MODEL_fa9964b0a9774b0d95a5566c287dec55",
            "placeholder": "​",
            "style": "IPY_MODEL_4c5f16d159194e58a4fd2714156d27d3",
            "value": " 261/261 [00:00&lt;00:00, 12.8kB/s]"
          }
        },
        "55e677a0a57b4a77a16abc78c5defd5d": {
          "model_module": "@jupyter-widgets/base",
          "model_name": "LayoutModel",
          "model_module_version": "1.2.0",
          "state": {
            "_model_module": "@jupyter-widgets/base",
            "_model_module_version": "1.2.0",
            "_model_name": "LayoutModel",
            "_view_count": null,
            "_view_module": "@jupyter-widgets/base",
            "_view_module_version": "1.2.0",
            "_view_name": "LayoutView",
            "align_content": null,
            "align_items": null,
            "align_self": null,
            "border": null,
            "bottom": null,
            "display": null,
            "flex": null,
            "flex_flow": null,
            "grid_area": null,
            "grid_auto_columns": null,
            "grid_auto_flow": null,
            "grid_auto_rows": null,
            "grid_column": null,
            "grid_gap": null,
            "grid_row": null,
            "grid_template_areas": null,
            "grid_template_columns": null,
            "grid_template_rows": null,
            "height": null,
            "justify_content": null,
            "justify_items": null,
            "left": null,
            "margin": null,
            "max_height": null,
            "max_width": null,
            "min_height": null,
            "min_width": null,
            "object_fit": null,
            "object_position": null,
            "order": null,
            "overflow": null,
            "overflow_x": null,
            "overflow_y": null,
            "padding": null,
            "right": null,
            "top": null,
            "visibility": null,
            "width": null
          }
        },
        "a29ac6c03a054a68806f84e6c5280431": {
          "model_module": "@jupyter-widgets/base",
          "model_name": "LayoutModel",
          "model_module_version": "1.2.0",
          "state": {
            "_model_module": "@jupyter-widgets/base",
            "_model_module_version": "1.2.0",
            "_model_name": "LayoutModel",
            "_view_count": null,
            "_view_module": "@jupyter-widgets/base",
            "_view_module_version": "1.2.0",
            "_view_name": "LayoutView",
            "align_content": null,
            "align_items": null,
            "align_self": null,
            "border": null,
            "bottom": null,
            "display": null,
            "flex": null,
            "flex_flow": null,
            "grid_area": null,
            "grid_auto_columns": null,
            "grid_auto_flow": null,
            "grid_auto_rows": null,
            "grid_column": null,
            "grid_gap": null,
            "grid_row": null,
            "grid_template_areas": null,
            "grid_template_columns": null,
            "grid_template_rows": null,
            "height": null,
            "justify_content": null,
            "justify_items": null,
            "left": null,
            "margin": null,
            "max_height": null,
            "max_width": null,
            "min_height": null,
            "min_width": null,
            "object_fit": null,
            "object_position": null,
            "order": null,
            "overflow": null,
            "overflow_x": null,
            "overflow_y": null,
            "padding": null,
            "right": null,
            "top": null,
            "visibility": null,
            "width": null
          }
        },
        "9cfbe21a266345dda94b73a845ee4c9c": {
          "model_module": "@jupyter-widgets/controls",
          "model_name": "DescriptionStyleModel",
          "model_module_version": "1.5.0",
          "state": {
            "_model_module": "@jupyter-widgets/controls",
            "_model_module_version": "1.5.0",
            "_model_name": "DescriptionStyleModel",
            "_view_count": null,
            "_view_module": "@jupyter-widgets/base",
            "_view_module_version": "1.2.0",
            "_view_name": "StyleView",
            "description_width": ""
          }
        },
        "b86fc63c1b5b4c708b08f87db59d268a": {
          "model_module": "@jupyter-widgets/base",
          "model_name": "LayoutModel",
          "model_module_version": "1.2.0",
          "state": {
            "_model_module": "@jupyter-widgets/base",
            "_model_module_version": "1.2.0",
            "_model_name": "LayoutModel",
            "_view_count": null,
            "_view_module": "@jupyter-widgets/base",
            "_view_module_version": "1.2.0",
            "_view_name": "LayoutView",
            "align_content": null,
            "align_items": null,
            "align_self": null,
            "border": null,
            "bottom": null,
            "display": null,
            "flex": null,
            "flex_flow": null,
            "grid_area": null,
            "grid_auto_columns": null,
            "grid_auto_flow": null,
            "grid_auto_rows": null,
            "grid_column": null,
            "grid_gap": null,
            "grid_row": null,
            "grid_template_areas": null,
            "grid_template_columns": null,
            "grid_template_rows": null,
            "height": null,
            "justify_content": null,
            "justify_items": null,
            "left": null,
            "margin": null,
            "max_height": null,
            "max_width": null,
            "min_height": null,
            "min_width": null,
            "object_fit": null,
            "object_position": null,
            "order": null,
            "overflow": null,
            "overflow_x": null,
            "overflow_y": null,
            "padding": null,
            "right": null,
            "top": null,
            "visibility": null,
            "width": null
          }
        },
        "5c3029e5151a47b5892d210a4dd88be2": {
          "model_module": "@jupyter-widgets/controls",
          "model_name": "ProgressStyleModel",
          "model_module_version": "1.5.0",
          "state": {
            "_model_module": "@jupyter-widgets/controls",
            "_model_module_version": "1.5.0",
            "_model_name": "ProgressStyleModel",
            "_view_count": null,
            "_view_module": "@jupyter-widgets/base",
            "_view_module_version": "1.2.0",
            "_view_name": "StyleView",
            "bar_color": null,
            "description_width": ""
          }
        },
        "fa9964b0a9774b0d95a5566c287dec55": {
          "model_module": "@jupyter-widgets/base",
          "model_name": "LayoutModel",
          "model_module_version": "1.2.0",
          "state": {
            "_model_module": "@jupyter-widgets/base",
            "_model_module_version": "1.2.0",
            "_model_name": "LayoutModel",
            "_view_count": null,
            "_view_module": "@jupyter-widgets/base",
            "_view_module_version": "1.2.0",
            "_view_name": "LayoutView",
            "align_content": null,
            "align_items": null,
            "align_self": null,
            "border": null,
            "bottom": null,
            "display": null,
            "flex": null,
            "flex_flow": null,
            "grid_area": null,
            "grid_auto_columns": null,
            "grid_auto_flow": null,
            "grid_auto_rows": null,
            "grid_column": null,
            "grid_gap": null,
            "grid_row": null,
            "grid_template_areas": null,
            "grid_template_columns": null,
            "grid_template_rows": null,
            "height": null,
            "justify_content": null,
            "justify_items": null,
            "left": null,
            "margin": null,
            "max_height": null,
            "max_width": null,
            "min_height": null,
            "min_width": null,
            "object_fit": null,
            "object_position": null,
            "order": null,
            "overflow": null,
            "overflow_x": null,
            "overflow_y": null,
            "padding": null,
            "right": null,
            "top": null,
            "visibility": null,
            "width": null
          }
        },
        "4c5f16d159194e58a4fd2714156d27d3": {
          "model_module": "@jupyter-widgets/controls",
          "model_name": "DescriptionStyleModel",
          "model_module_version": "1.5.0",
          "state": {
            "_model_module": "@jupyter-widgets/controls",
            "_model_module_version": "1.5.0",
            "_model_name": "DescriptionStyleModel",
            "_view_count": null,
            "_view_module": "@jupyter-widgets/base",
            "_view_module_version": "1.2.0",
            "_view_name": "StyleView",
            "description_width": ""
          }
        }
      }
    }
  },
  "cells": [
    {
      "cell_type": "markdown",
      "metadata": {
        "id": "view-in-github",
        "colab_type": "text"
      },
      "source": [
        "<a href=\"https://colab.research.google.com/github/aastha2003gupta/speech_translator/blob/main/speech_translator_mbart.ipynb\" target=\"_parent\"><img src=\"https://colab.research.google.com/assets/colab-badge.svg\" alt=\"Open In Colab\"/></a>"
      ]
    },
    {
      "cell_type": "markdown",
      "source": [
        "# Importing dependencies\n",
        "Installing the Whisper ASR library, checking for GPU availability, and loading a pre-trained large-sized Whisper ASR model. The device variable is set to \"cuda\" if a GPU is available; otherwise, it is set to \"cpu\". The model is loaded onto the specified device for Automatic Speech Recognition tasks.\n",
        "\n",
        "\n",
        "\n"
      ],
      "metadata": {
        "id": "I2sX2xe1Zlby"
      }
    },
    {
      "cell_type": "code",
      "execution_count": null,
      "metadata": {
        "colab": {
          "base_uri": "https://localhost:8080/"
        },
        "id": "wwTWKmIqZYid",
        "outputId": "c0003945-e6e2-493b-d40e-1511b7c43b28"
      },
      "outputs": [
        {
          "output_type": "stream",
          "name": "stdout",
          "text": [
            "  Installing build dependencies ... \u001b[?25l\u001b[?25hdone\n",
            "  Getting requirements to build wheel ... \u001b[?25l\u001b[?25hdone\n",
            "  Preparing metadata (pyproject.toml) ... \u001b[?25l\u001b[?25hdone\n",
            "\u001b[2K     \u001b[90m━━━━━━━━━━━━━━━━━━━━━━━━━━━━━━━━━━━━━━━━\u001b[0m \u001b[32m2.0/2.0 MB\u001b[0m \u001b[31m9.9 MB/s\u001b[0m eta \u001b[36m0:00:00\u001b[0m\n",
            "\u001b[?25h  Building wheel for openai-whisper (pyproject.toml) ... \u001b[?25l\u001b[?25hdone\n",
            "\u001b[31mERROR: pip's dependency resolver does not currently take into account all the packages that are installed. This behaviour is the source of the following dependency conflicts.\n",
            "llmx 0.0.15a0 requires cohere, which is not installed.\n",
            "llmx 0.0.15a0 requires openai, which is not installed.\u001b[0m\u001b[31m\n",
            "\u001b[0m"
          ]
        }
      ],
      "source": [
        "!pip -qqq install git+https://github.com/openai/whisper.git"
      ]
    },
    {
      "cell_type": "code",
      "source": [
        "import whisper\n",
        "import torch"
      ],
      "metadata": {
        "id": "9XmITrqwZ2K6"
      },
      "execution_count": null,
      "outputs": []
    },
    {
      "cell_type": "code",
      "source": [
        "device = \"cuda\" if torch.cuda.is_available() else \"cpu\"\n",
        "whisper_model = whisper.load_model(\"large\", device=device)"
      ],
      "metadata": {
        "colab": {
          "base_uri": "https://localhost:8080/"
        },
        "id": "xo4E7sBeZ7yI",
        "outputId": "9d0ab9d7-14e9-49c6-a984-44e08a87b3cc"
      },
      "execution_count": null,
      "outputs": [
        {
          "output_type": "stream",
          "name": "stderr",
          "text": [
            "100%|██████████████████████████████████████| 2.88G/2.88G [00:19<00:00, 161MiB/s]\n"
          ]
        }
      ]
    },
    {
      "cell_type": "markdown",
      "source": [
        "# Speech to text\n",
        "Transcribing the speech content of the specified MP3 audio file (audio_file) using the loaded Whisper ASR model (whisper_model). The transcribed text is then printed using print(result['text']).\n",
        "\n"
      ],
      "metadata": {
        "id": "GRhZgaTDaCAH"
      }
    },
    {
      "cell_type": "code",
      "source": [
        "audio_file = '/content/audio.mp3'\n",
        "result = whisper_model.transcribe(audio_file)"
      ],
      "metadata": {
        "id": "huZqA2AFaDsE"
      },
      "execution_count": null,
      "outputs": []
    },
    {
      "cell_type": "code",
      "source": [
        "print(result['text'])"
      ],
      "metadata": {
        "colab": {
          "base_uri": "https://localhost:8080/"
        },
        "id": "YOr4UXs6aPcu",
        "outputId": "a862d399-6932-4f2f-fd7f-a27d810e7552"
      },
      "execution_count": null,
      "outputs": [
        {
          "output_type": "stream",
          "name": "stdout",
          "text": [
            " What is the full form of RBI? Reserve Bank of India. Okay. The price of petrol went from Rs. 5 in the 80s to more than Rs. 100 in 2023. What is this phenomenon called? Inflation. Correct. By the way, yeah. This is yours. Which is the largest commercial bank in India? Largest commercial bank? Depends, like are you talking about private sector or public sector? Everything included. SBI. Correct. What is the strongest currency? In the world. Strongest currency. One of the Middle East countries, I'm not sure. I think Qatari something, something. I'm not sure, but yeah. Even I don't know. What's the answer? Correct. I'll give you that. I'll give you that. And the last question is, which country was the first to launch UPI? India. That was a trick question and it's correct. How is that a trick question? It literally is from India, bro.\n"
          ]
        }
      ]
    },
    {
      "cell_type": "markdown",
      "source": [
        "# Detecting language of the transcribed text\n",
        "Using langdetect library to automatically detect the language of the transcribed text obtained from the Whisper ASR model. It then maps the detected language code to the corresponding mBART format using the predefined dictionary langdetect_to_mbart_mapping. Finally, it prints the original text, the detected language code using langdetect, and the corresponding mBART language code. If the detected language is not present in the mapping, it defaults to English (\"en_XX\")."
      ],
      "metadata": {
        "id": "qsIfxgbIa_sh"
      }
    },
    {
      "cell_type": "code",
      "source": [
        "!pip install langdetect"
      ],
      "metadata": {
        "colab": {
          "base_uri": "https://localhost:8080/"
        },
        "id": "uc2yMaUlbCr1",
        "outputId": "7ec6ff48-d46d-4323-d9fd-444fc38c69ff"
      },
      "execution_count": null,
      "outputs": [
        {
          "output_type": "stream",
          "name": "stdout",
          "text": [
            "Collecting langdetect\n",
            "  Downloading langdetect-1.0.9.tar.gz (981 kB)\n",
            "\u001b[2K     \u001b[90m━━━━━━━━━━━━━━━━━━━━━━━━━━━━━━━━━━━━━━━━\u001b[0m \u001b[32m981.5/981.5 kB\u001b[0m \u001b[31m6.7 MB/s\u001b[0m eta \u001b[36m0:00:00\u001b[0m\n",
            "\u001b[?25h  Preparing metadata (setup.py) ... \u001b[?25l\u001b[?25hdone\n",
            "Requirement already satisfied: six in /usr/local/lib/python3.10/dist-packages (from langdetect) (1.16.0)\n",
            "Building wheels for collected packages: langdetect\n",
            "  Building wheel for langdetect (setup.py) ... \u001b[?25l\u001b[?25hdone\n",
            "  Created wheel for langdetect: filename=langdetect-1.0.9-py3-none-any.whl size=993224 sha256=a381bb12e505ee7b322ded0dc78584539410fd8cb429c754bcd151e8d6944f0b\n",
            "  Stored in directory: /root/.cache/pip/wheels/95/03/7d/59ea870c70ce4e5a370638b5462a7711ab78fba2f655d05106\n",
            "Successfully built langdetect\n",
            "Installing collected packages: langdetect\n",
            "Successfully installed langdetect-1.0.9\n"
          ]
        }
      ]
    },
    {
      "cell_type": "code",
      "source": [
        "from langdetect import detect\n",
        "\n",
        "# Provided mapping from langdetect language code to mBART format\n",
        "langdetect_to_mbart_mapping = {\n",
        "    \"ar\": \"ar_AR\", \"cs\": \"cs_CZ\", \"de\": \"de_DE\", \"en\": \"en_XX\", \"es\": \"es_XX\",\n",
        "    \"et\": \"et_EE\", \"fi\": \"fi_FI\", \"fr\": \"fr_XX\", \"gu\": \"gu_IN\", \"hi\": \"hi_IN\",\n",
        "    \"it\": \"it_IT\", \"ja\": \"ja_XX\", \"kk\": \"kk_KZ\", \"ko\": \"ko_KR\", \"lt\": \"lt_LT\",\n",
        "    \"lv\": \"lv_LV\", \"my\": \"my_MM\", \"ne\": \"ne_NP\", \"nl\": \"nl_XX\", \"ro\": \"ro_RO\",\n",
        "    \"ru\": \"ru_RU\", \"si\": \"si_LK\", \"tr\": \"tr_TR\", \"vi\": \"vi_VN\", \"zh-cn\": \"zh_CN\",\n",
        "    \"af\": \"af_ZA\", \"az\": \"az_AZ\", \"bn\": \"bn_IN\", \"fa\": \"fa_IR\", \"he\": \"he_IL\",\n",
        "    \"hr\": \"hr_HR\", \"id\": \"id_ID\", \"ka\": \"ka_GE\", \"km\": \"km_KH\", \"mk\": \"mk_MK\",\n",
        "    \"ml\": \"ml_IN\", \"mn\": \"mn_MN\", \"mr\": \"mr_IN\", \"pl\": \"pl_PL\", \"ps\": \"ps_AF\",\n",
        "    \"pt\": \"pt_XX\", \"sv\": \"sv_SE\", \"sw\": \"sw_KE\", \"ta\": \"ta_IN\", \"te\": \"te_IN\",\n",
        "    \"th\": \"th_TH\", \"tl\": \"tl_XX\", \"uk\": \"uk_UA\", \"ur\": \"ur_PK\", \"xh\": \"xh_ZA\",\n",
        "    \"gl\": \"gl_ES\", \"sl\": \"sl_SI\"\n",
        "}\n",
        "\n",
        "# Detect the language using langdetect\n",
        "detected_lang_code = detect(result['text'])\n",
        "\n",
        "# Convert langdetect language code to mBART format\n",
        "mbart_lang_code = langdetect_to_mbart_mapping.get(detected_lang_code, \"en_XX\")  # Default to English if not found\n",
        "\n",
        "print(f\"Input Text: {result['text']}\")\n",
        "print(f\"Detected Language Code (langdetect): {detected_lang_code}\")\n",
        "print(f\"mBART Language Code: {mbart_lang_code}\")\n"
      ],
      "metadata": {
        "colab": {
          "base_uri": "https://localhost:8080/"
        },
        "id": "PL7xLZ9hbH7n",
        "outputId": "60a020ac-f918-470e-d3d0-3fdeb55bcc7e"
      },
      "execution_count": null,
      "outputs": [
        {
          "output_type": "stream",
          "name": "stdout",
          "text": [
            "Input Text:  What is the full form of RBI? Reserve Bank of India. Okay. The price of petrol went from Rs. 5 in the 80s to more than Rs. 100 in 2023. What is this phenomenon called? Inflation. Correct. By the way, yeah. This is yours. Which is the largest commercial bank in India? Largest commercial bank? Depends, like are you talking about private sector or public sector? Everything included. SBI. Correct. What is the strongest currency? In the world. Strongest currency. One of the Middle East countries, I'm not sure. I think Qatari something, something. I'm not sure, but yeah. Even I don't know. What's the answer? Correct. I'll give you that. I'll give you that. And the last question is, which country was the first to launch UPI? India. That was a trick question and it's correct. How is that a trick question? It literally is from India, bro.\n",
            "Detected Language Code (langdetect): en\n",
            "mBART Language Code: en_XX\n"
          ]
        }
      ]
    },
    {
      "cell_type": "markdown",
      "source": [
        "# Translate to different languages using mbart\n",
        "Utilizing the Hugging Face Transformers library to perform machine translation with the MBart model. It loads a pre-trained MBart model and tokenizer for one-to-many multi-modal translation. The input text, previously transcribed by the Whisper ASR model, is translated into several Indian languages specified in the languages_info dictionary. The translations, along with language codes and names, are stored in the translations_data dictionary. The translated output is printed for each language, facilitating multilingual summarization. The sentencepiece library is also installed as a prerequisite for MBart."
      ],
      "metadata": {
        "id": "8sIWNG-DbKRB"
      }
    },
    {
      "cell_type": "code",
      "source": [
        "! pip install sentencepiece"
      ],
      "metadata": {
        "colab": {
          "base_uri": "https://localhost:8080/"
        },
        "id": "7GzS1K3cbOgM",
        "outputId": "d9b6ba7d-515b-4da1-8536-350b980e9333"
      },
      "execution_count": null,
      "outputs": [
        {
          "output_type": "stream",
          "name": "stdout",
          "text": [
            "Collecting sentencepiece\n",
            "  Downloading sentencepiece-0.1.99-cp310-cp310-manylinux_2_17_x86_64.manylinux2014_x86_64.whl (1.3 MB)\n",
            "\u001b[2K     \u001b[90m━━━━━━━━━━━━━━━━━━━━━━━━━━━━━━━━━━━━━━━━\u001b[0m \u001b[32m1.3/1.3 MB\u001b[0m \u001b[31m9.9 MB/s\u001b[0m eta \u001b[36m0:00:00\u001b[0m\n",
            "\u001b[?25hInstalling collected packages: sentencepiece\n",
            "Successfully installed sentencepiece-0.1.99\n"
          ]
        }
      ]
    },
    {
      "cell_type": "code",
      "source": [
        "!pip freeze | grep transformers"
      ],
      "metadata": {
        "colab": {
          "base_uri": "https://localhost:8080/"
        },
        "id": "KpypCMDubWi5",
        "outputId": "4ec99174-ccbc-43e0-f99b-5b4026df9f0d"
      },
      "execution_count": null,
      "outputs": [
        {
          "output_type": "stream",
          "name": "stdout",
          "text": [
            "transformers==4.35.2\n"
          ]
        }
      ]
    },
    {
      "cell_type": "code",
      "source": [
        "from transformers import MBartForConditionalGeneration, MBart50TokenizerFast"
      ],
      "metadata": {
        "id": "WOAe58sXbZ13"
      },
      "execution_count": null,
      "outputs": []
    },
    {
      "cell_type": "code",
      "source": [
        "model = MBartForConditionalGeneration.from_pretrained(\"facebook/mbart-large-50-one-to-many-mmt\")"
      ],
      "metadata": {
        "colab": {
          "base_uri": "https://localhost:8080/",
          "height": 113,
          "referenced_widgets": [
            "a651e9c5dda64e2592961e76d23dda61",
            "9665ef9ecd24484abd247dc478d7b606",
            "130f07251d2e4a7bb57d4e83f872c74c",
            "a9f351643bf5444aa99ee3ec3f1a4e79",
            "727124db7aaf4d9b87c15e5dcfa3d586",
            "f0533a090c23487aac56997f27edc469",
            "80a014555d35490b9dd2bec17801950e",
            "fae5d2196d454f11b2e01fe6730d0f81",
            "695573d9d6b24f4f8fb915726cf76118",
            "a9e3576e6b9a40319a9c4a85d50f7a61",
            "c0141088b2c64aeca802ed3b9b030ff3",
            "8cf3d4993c1a4b29a9eee2cdd1b226e0",
            "69a0ea6c0ced49f5b7765acb67ede398",
            "94d85819b0954bec9945bff4d1ecf5ce",
            "f856273dac3040a89030b6d5e852d9ac",
            "3069046a8df946b3bc30c4e81a9f53d9",
            "537d4fe9cefa4f78838d5deac34a221e",
            "e9d4cc7c89814b28ba064da1f816f283",
            "e025d23188e444ddba12726c146d7186",
            "3af673c04ed8473a96243509ed1b0cbc",
            "e482e9c5d67748a69712faf25d9d6b0d",
            "4462e06d8da2457480490b243f196404",
            "eacf88806bfa44a49a4a22072c40bc87",
            "1f107078552e43f8bc290cf8394434ca",
            "649599a4d0f94fb2b16028a19c744d93",
            "3c95358308484c17ae40232a2910bc66",
            "55e677a0a57b4a77a16abc78c5defd5d",
            "a29ac6c03a054a68806f84e6c5280431",
            "9cfbe21a266345dda94b73a845ee4c9c",
            "b86fc63c1b5b4c708b08f87db59d268a",
            "5c3029e5151a47b5892d210a4dd88be2",
            "fa9964b0a9774b0d95a5566c287dec55",
            "4c5f16d159194e58a4fd2714156d27d3"
          ]
        },
        "id": "3TTOEF_NbdaP",
        "outputId": "7fbc2ccb-51c5-4c82-8a6e-d811cb702398"
      },
      "execution_count": null,
      "outputs": [
        {
          "output_type": "display_data",
          "data": {
            "text/plain": [
              "config.json:   0%|          | 0.00/1.43k [00:00<?, ?B/s]"
            ],
            "application/vnd.jupyter.widget-view+json": {
              "version_major": 2,
              "version_minor": 0,
              "model_id": "a651e9c5dda64e2592961e76d23dda61"
            }
          },
          "metadata": {}
        },
        {
          "output_type": "display_data",
          "data": {
            "text/plain": [
              "pytorch_model.bin:   0%|          | 0.00/2.44G [00:00<?, ?B/s]"
            ],
            "application/vnd.jupyter.widget-view+json": {
              "version_major": 2,
              "version_minor": 0,
              "model_id": "8cf3d4993c1a4b29a9eee2cdd1b226e0"
            }
          },
          "metadata": {}
        },
        {
          "output_type": "display_data",
          "data": {
            "text/plain": [
              "generation_config.json:   0%|          | 0.00/261 [00:00<?, ?B/s]"
            ],
            "application/vnd.jupyter.widget-view+json": {
              "version_major": 2,
              "version_minor": 0,
              "model_id": "eacf88806bfa44a49a4a22072c40bc87"
            }
          },
          "metadata": {}
        }
      ]
    },
    {
      "cell_type": "code",
      "source": [
        "tokenizer = MBart50TokenizerFast.from_pretrained(\"facebook/mbart-large-50-one-to-many-mmt\", src_lang=mbart_lang_code)"
      ],
      "metadata": {
        "id": "blqwfvp4bdjx"
      },
      "execution_count": null,
      "outputs": []
    },
    {
      "cell_type": "code",
      "source": [
        "model_inputs = tokenizer(result['text'], return_tensors=\"pt\")"
      ],
      "metadata": {
        "id": "paPeVnjAcGaN"
      },
      "execution_count": null,
      "outputs": []
    },
    {
      "cell_type": "code",
      "source": [
        "languages_info = {\n",
        "    \"hi_IN\": \"Hindi\",\n",
        "    \"gu_IN\": \"Gujarati\",\n",
        "    \"bn_IN\": \"Bengali\",\n",
        "    \"ta_IN\": \"Tamil\",\n",
        "    \"te_IN\": \"Telugu\",\n",
        "    \"ml_IN\": \"Malayalam\",\n",
        "    \"mr_IN\": \"Marathi\",\n",
        "    \"ur_PK\": \"Urdu\"\n",
        "}\n",
        "translations_data = {}\n",
        "for lang_code, lang_name in languages_info.items():\n",
        "    generated_tokens = model.generate(\n",
        "        **model_inputs,\n",
        "        forced_bos_token_id=tokenizer.lang_code_to_id[lang_code]\n",
        "    )\n",
        "    translation = tokenizer.batch_decode(generated_tokens, skip_special_tokens=True)\n",
        "    translations_data[lang_code] = {\n",
        "        'lang_name': lang_name,\n",
        "        'translation': translation\n",
        "    }\n",
        "\n",
        "    print(f\"Language Code: {lang_code}, Language Name: {lang_name}, Translation: {translation}\")\n"
      ],
      "metadata": {
        "colab": {
          "base_uri": "https://localhost:8080/"
        },
        "id": "m2KNXOyifQfF",
        "outputId": "1723f697-decb-4fae-927c-4329e837e0fb"
      },
      "execution_count": null,
      "outputs": [
        {
          "output_type": "stream",
          "name": "stdout",
          "text": [
            "Language Code: hi_IN, Language Name: Hindi, Translation: ['आरबीआई का पूरा रूप क्या है? भारतीय रिज़र्व बैंक. ठीक है. पैट्रोल की कीमत 80 के दशक में 5 रु. से बढ़कर 2023 में 100 रु. से अधिक हो गई. इस घटना को क्या कहा जाता है? मुद्रास्फीति. ठीक है. वैसे ही, हाँ. यह आपका है. भारत में सबसे बड़ा वाणिज्यिक बैंक क्या है? सबसे बड़ा वाणिज्यिक बैंक क्या है? निर्भर करता है, जैसे आप निजी क्षेत्र या सार्वजनिक क्षेत्र के बारे में बात कर रहे हैं? सब कुछ शामिल है. एसबीआई. ठीक है. सबसे मजबूत मुद्रा क्या है? विश्व में. सबसे मजबूत मुद्रा. मध्य पूर्व देशों में से एक, मुझे विश्वास नहीं है. मुझे लगता है कि कातर कुछ, कुछ. मुझे विश्वास नहीं है, लेकिन हाँ. मुझे भी पता नहीं है. जवाब क्या है? ठीक है. मैं आपको दे दूँगा कि. मैं आपको दे दूँगा कि. और अंतिम सवाल यह है, कौन']\n",
            "Language Code: gu_IN, Language Name: Gujarati, Translation: [\"RBI-નો পুরো ઢાંચાઓ কি? ભારતીય રિઝર્વ બેંક. ঠিক আছে. પેટ્રોનો מחיר ৮০ 'র দশকে Rs.5 থেকে 2023' তে Rs.100 এর ও বেশি হয়ে গেছে. ამ მოვლენას কি বলা হয়? ફુગાવો. ঠিক আছে. ویسے, ඔව්. এটা మీదే. ভারতে সবচেয়ে বড় კომერციული ব ্ যাংক কি? সবচেয়ে বড় კომერციული ব ্ যাংক?ពឹងពាក់, যেমন তুমি ব ্ যক ্ তিগত সেক ্ টরের কথা বলছ বা সরকারী সেক ্ টরের কথা বলছ? সবকিছুรวมไปถึง. SBI. ঠিক আছে. সবচেয়ে ძლიერი करेंसी কি? এই বিশ ্ বে. সবচেয়ে ძლიერი करेंसी. মধ ্ যপ ্ রাচ ্ যের একটি দেশ, আমি নিশ ্ চিত নই. আমার মনে হয় कतार এর কিছু,\"]\n",
            "Language Code: bn_IN, Language Name: Bengali, Translation: ['পূর ্ ণপূর ্ ণরূপের রেডিও ব ্ যাংকটা কি? ভারতীয় রিজার ্ ভ ব ্ যাংক । আচ ্ ছা । তেলের দাম প ্ রায় ৮০র দশকে রুপি ၅ থেকে ২০ কোটির চেয়েও বেশি হল ২০০৭ সালে । এই ঘটনাকে কি বলা হচ ্ ছে? মূল ্ যস ্ ফীত । ঠিক । অন ্ যদিকে, হ ্ যাঁ । এটা আপনারা । ভারতে সবচেয়ে বড় ব ্ যবসায়িক ব ্ যাংক কি? সবচেয়ে বড় ব ্ যবসায়িক ব ্ যাংক? সেটা নির ্ ভর, যেমন আপনি ব ্ যক ্ তিগত ক ্ ষেত ্ র বা সরকারী ক ্ ষেত ্ র নিয়ে কথা বলছেন? তার সবকিছু']\n",
            "Language Code: ta_IN, Language Name: Tamil, Translation: ['RBI இன் முழு வடிவம் என்ன? இந்திய ரிசர்வ் வங்கி. சரி. பெட்ரோலின் விலை 80 களில் ரூ.5ல் இருந்து 2023 ல் ரூ.100க்கு மேல் உயர்ந்தது. இந்த நிகழ்வு என்ன என்று அழைக்கப்படுகிறது? பணவீக்கம். சரி. இந்த வழியில், சரி. இது உங்களுடையது. இந்தியாவில் மிகப் பெரிய வணிக வங்கி எது? மிகப் பெரிய வணிக வங்கி எது? நீங்கள் தனியார் துறையோ பொதுத்துறையோ பற்றி பேசுகிறீர்கள்? இதில் எல்லாம் அடங்கியிருக்கிறது. SBI. சரி. உலகின் மிக வலுவான நாணயம் என்ன? மிக வலுவான நாணயம். மத்திய கிழக்கின் ஒரு நாடு, நான் உறுதியடையவில்லை. நான் காட்டாரி என்று நான் நினைக்கின்றேன், ஏதாவது. நான் உறுதியடையவில்லை, ஆனால் சரி. நான் கூட அறியேன். பதில் என்ன? சரி. நான் உங்களுக்கு அதைத் தருகிறேன். நான் உங்களுக்கு அதைத் தருகிறேன். கடைசிக் கேள்வி என்னவென்றால், எந்த நாடு முதல் முறையாக UPI-']\n",
            "Language Code: te_IN, Language Name: Telugu, Translation: ['హెన్రీ:']\n",
            "Language Code: ml_IN, Language Name: Malayalam, Translation: ['റിസര് വ്വ് ബാങ്ക് ഓഫ് ഇന്ത്യയുടെ പൂര് ണ്ണ ഫോം എന്താണ്? ഓക്കേ. പെട്രോലിന് റെ വില 80 കളില് 5 രൂപയില് നിന്ന് 2023 ല് 100 രൂപക്ക് കൂടുതല് ആയി. ഈ സംഭവത്തെ എന്താണ് വിളിക്കുന്നത്? നാണയപ്പെരുപ്പം. ശെരി.']\n",
            "Language Code: mr_IN, Language Name: Marathi, Translation: ['RBI चा पूर ् ण प ् रकार काय आहे? भारतीय रिजर ् व बैंक. बरं. पैट ् रोलची किंमत १९८० मध ् ये ५ रु. पासून १२०२३ मध ् ये १०० रु. पेक ् षा जास ् त झाली. या दृष ् टीकोनाला काय म ् हणतात? चलन फुगवटा. बरोबर. बरं. बरं. हे तुमचं आहे. भारतातील कोणता सर ् वात मोठा व ् यावसायिक बँके आहे? सर ् वात मोठा व ् यावसायिक बँके? हे तुम ् ही म ् हणता येईल की तुम ् ही खाजगी सेक्टरी किंवा सार ् वजनिक सेक्टरी बद ् दल बोलत आहात? सगळं सोबत आहे. SBI. बरोबर. पृथ']\n",
            "Language Code: ur_PK, Language Name: Urdu, Translation: ['مکمل طور پر ریبئی کی کیا شکل ہے؟ ریبائن بینک، of India ٹھیک ہے، بیرل کی قیمت 80s میں Rs 5 سے 2023 میں Rs 100 سے زیادہ ہو گئی ہے اس پدیده کو کیا کہا جاتا ہے؟ انفلاسیون درست ہے، ویسے یہ تمہارا ہے ہاں، یہ भारतात سب سے بڑا تجارتی بینک ہے؟ سب سے بڑا تجارتی بینک؟ جیسا کہ تم کہہ رہے ہو خصوصی سکتور یا عام سکتور کے بارے میں؟ سب کچھ شامل ہے SBI ٹھیک ہے، سب سے بڑا پیسے کی ہے؟ دنیا میں سب سے بڑا پیسے کی ہے؟']\n"
          ]
        }
      ]
    },
    {
      "cell_type": "markdown",
      "source": [
        "# Calculating WER\n",
        "Calculating the Word Error Rate (WER) between the reference text (transcribed by the Whisper ASR model) and the translated text for each language in the translations_data dictionary. It uses the NLTK library's edit_distance function to compute the number of insertions, deletions, and substitutions needed to transform one set of words into another. The WER scores, normalized by the length of the reference text, are stored in the wer_scores dictionary. Finally, the WER scores are printed or can be used further based on your requirements.\n",
        "\n",
        "\n"
      ],
      "metadata": {
        "id": "I8maCK_XobDK"
      }
    },
    {
      "cell_type": "code",
      "source": [
        "from nltk.metrics.distance import edit_distance"
      ],
      "metadata": {
        "id": "l_zpmytkodU_"
      },
      "execution_count": null,
      "outputs": []
    },
    {
      "cell_type": "code",
      "source": [
        "wer_scores = {}\n",
        "\n",
        "for lang_code, lang_data in translations_data.items():\n",
        "    # Access the translation text from the list\n",
        "    translated_text = lang_data['translation'][0]  # Assuming the translation is stored as a list\n",
        "\n",
        "    # Tokenize the reference and translated texts into words\n",
        "    reference_words = result['text'].split()  # Assuming you have reference_texts defined\n",
        "    translated_words = translated_text.split()\n",
        "\n",
        "    # Calculate WER\n",
        "    wer = edit_distance(reference_words, translated_words)\n",
        "    wer_rate = wer / len(reference_words)\n",
        "\n",
        "    # Store the WER for the translation\n",
        "    wer_scores[lang_code] = wer_rate\n",
        "\n",
        "# Print or use the WER scores as needed\n",
        "print(wer_scores)"
      ],
      "metadata": {
        "colab": {
          "base_uri": "https://localhost:8080/"
        },
        "id": "NyGHACAIogXg",
        "outputId": "2ccd10be-485f-49a2-c9f8-96510c28a28e"
      },
      "execution_count": null,
      "outputs": [
        {
          "output_type": "stream",
          "name": "stdout",
          "text": [
            "{'hi_IN': 0.9865771812080537, 'gu_IN': 1.0, 'bn_IN': 1.0, 'ta_IN': 0.9932885906040269, 'te_IN': 1.0, 'ml_IN': 0.9865771812080537, 'mr_IN': 1.0, 'ur_PK': 0.9865771812080537}\n"
          ]
        }
      ]
    },
    {
      "cell_type": "markdown",
      "source": [
        "# Returning the translated audio in different\n",
        "Using languages the gTTS (Google Text-to-Speech) library to generate audio files for each language in the translations dictionary. It iterates through each language code and its corresponding translated text, attempts to create a gTTS object, saves the generated audio file in the 'translated_audio' directory with a filename based on the language code, and prints a message indicating successful audio generation. If the language is not supported, it catches a ValueError and prints an error message. The 'translated_audio' directory is created if it doesn't exist."
      ],
      "metadata": {
        "id": "jCrWTJicrxWU"
      }
    },
    {
      "cell_type": "code",
      "source": [
        "!pip install gTTS"
      ],
      "metadata": {
        "colab": {
          "base_uri": "https://localhost:8080/"
        },
        "id": "p9zo9Ud4r4DR",
        "outputId": "344e18a8-d21e-4394-cf5b-83e86eff370b"
      },
      "execution_count": null,
      "outputs": [
        {
          "output_type": "stream",
          "name": "stdout",
          "text": [
            "Collecting gTTS\n",
            "  Downloading gTTS-2.4.0-py3-none-any.whl (29 kB)\n",
            "Requirement already satisfied: requests<3,>=2.27 in /usr/local/lib/python3.10/dist-packages (from gTTS) (2.31.0)\n",
            "Requirement already satisfied: click<8.2,>=7.1 in /usr/local/lib/python3.10/dist-packages (from gTTS) (8.1.7)\n",
            "Requirement already satisfied: charset-normalizer<4,>=2 in /usr/local/lib/python3.10/dist-packages (from requests<3,>=2.27->gTTS) (3.3.2)\n",
            "Requirement already satisfied: idna<4,>=2.5 in /usr/local/lib/python3.10/dist-packages (from requests<3,>=2.27->gTTS) (3.4)\n",
            "Requirement already satisfied: urllib3<3,>=1.21.1 in /usr/local/lib/python3.10/dist-packages (from requests<3,>=2.27->gTTS) (2.0.7)\n",
            "Requirement already satisfied: certifi>=2017.4.17 in /usr/local/lib/python3.10/dist-packages (from requests<3,>=2.27->gTTS) (2023.7.22)\n",
            "Installing collected packages: gTTS\n",
            "Successfully installed gTTS-2.4.0\n"
          ]
        }
      ]
    },
    {
      "cell_type": "code",
      "source": [
        "from gtts import gTTS\n",
        "import os\n",
        "\n",
        "output_dir = 'translated_audio'\n",
        "\n",
        "# Create the output directory\n",
        "os.makedirs(output_dir, exist_ok=True)\n",
        "for lang_code, translated_text in translations_data.items():\n",
        "    try:\n",
        "        tts = gTTS(text=translated_text, lang=lang_code)\n",
        "        audio_file_path = os.path.join(output_dir, f'{lang_code}_translation.mp3')\n",
        "        tts.save(audio_file_path)\n",
        "        print(f'Audio generated for {lang_code}')\n",
        "    except ValueError as e:\n",
        "        print(f\"Language not supported for {lang_code}: {str(e)}\")"
      ],
      "metadata": {
        "colab": {
          "base_uri": "https://localhost:8080/"
        },
        "id": "OXukcwIasI6o",
        "outputId": "41a0a9fc-407e-446c-a957-73a76b7b7e0a"
      },
      "execution_count": null,
      "outputs": [
        {
          "output_type": "stream",
          "name": "stdout",
          "text": [
            "Language not supported for hi_IN: Language not supported: hi_IN\n",
            "Language not supported for gu_IN: Language not supported: gu_IN\n",
            "Language not supported for bn_IN: Language not supported: bn_IN\n",
            "Language not supported for ta_IN: Language not supported: ta_IN\n",
            "Language not supported for te_IN: Language not supported: te_IN\n",
            "Language not supported for ml_IN: Language not supported: ml_IN\n",
            "Language not supported for mr_IN: Language not supported: mr_IN\n",
            "Language not supported for ur_PK: Language not supported: ur_PK\n"
          ]
        }
      ]
    },
    {
      "cell_type": "code",
      "source": [
        "from gtts import gTTS\n",
        "import os\n",
        "\n",
        "output_dir = 'translated_audio'\n",
        "\n",
        "# Mapping between mBART language codes and gTTS language codes\n",
        "mbart_to_gtts_mapping = {\n",
        "    \"hi_IN\": \"hi\",\n",
        "    \"gu_IN\": \"gu\",\n",
        "    \"bn_IN\": \"bn\",\n",
        "    \"ta_IN\": \"ta\",\n",
        "    \"te_IN\": \"te\",\n",
        "    \"ml_IN\": \"ml\",\n",
        "    \"mr_IN\": \"mr\",\n",
        "    \"ur_PK\": \"ur\",\n",
        "    # Add more mappings as needed\n",
        "}\n",
        "\n",
        "# Create the output directory\n",
        "os.makedirs(output_dir, exist_ok=True)\n",
        "\n",
        "for lang_code, lang_data in translations_data.items():\n",
        "    translated_text = lang_data['translation'][0]  # Assuming the translation is stored as a list\n",
        "\n",
        "    # Convert mBART language code to gTTS language code\n",
        "    gtts_lang_code = mbart_to_gtts_mapping.get(lang_code.replace('_', '-'), \"en\")  # Default to English if not found\n",
        "\n",
        "    try:\n",
        "        tts = gTTS(text=translated_text, lang=gtts_lang_code)\n",
        "        audio_file_path = os.path.join(output_dir, f'{lang_code}_translation.mp3')\n",
        "        tts.save(audio_file_path)\n",
        "        print(f'Audio generated for {lang_code} ({gtts_lang_code})')\n",
        "    except ValueError as e:\n",
        "        print(f\"Language not supported for {lang_code}: {str(e)}\")\n"
      ],
      "metadata": {
        "colab": {
          "base_uri": "https://localhost:8080/"
        },
        "id": "MfLDQbT9sjZV",
        "outputId": "9c5a27ea-e334-4907-8500-cb8440269d7b"
      },
      "execution_count": null,
      "outputs": [
        {
          "output_type": "stream",
          "name": "stdout",
          "text": [
            "Audio generated for hi_IN (en)\n",
            "Audio generated for gu_IN (en)\n",
            "Audio generated for bn_IN (en)\n",
            "Audio generated for ta_IN (en)\n",
            "Audio generated for te_IN (en)\n",
            "Audio generated for ml_IN (en)\n",
            "Audio generated for mr_IN (en)\n",
            "Audio generated for ur_PK (en)\n"
          ]
        }
      ]
    }
  ]
}